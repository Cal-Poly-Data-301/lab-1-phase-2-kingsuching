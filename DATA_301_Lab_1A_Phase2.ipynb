{
  "nbformat": 4,
  "nbformat_minor": 0,
  "metadata": {
    "kernelspec": {
      "display_name": "Python 3",
      "language": "python",
      "name": "python3"
    },
    "language_info": {
      "codemirror_mode": {
        "name": "ipython",
        "version": 3
      },
      "file_extension": ".py",
      "mimetype": "text/x-python",
      "name": "python",
      "nbconvert_exporter": "python",
      "pygments_lexer": "ipython3",
      "version": "3.6.4"
    },
    "colab": {
      "name": " DATA 301 Lab 1A - Phase2",
      "provenance": [],
      "collapsed_sections": [],
      "include_colab_link": true
    }
  },
  "cells": [
    {
      "cell_type": "markdown",
      "metadata": {
        "id": "view-in-github",
        "colab_type": "text"
      },
      "source": [
        "<a href=\"https://colab.research.google.com/github/kingsuching/lab-1-phase-2-kingsuching/blob/main/DATA_301_Lab_1A_Phase2.ipynb\" target=\"_parent\"><img src=\"https://colab.research.google.com/assets/colab-badge.svg\" alt=\"Open In Colab\"/></a>"
      ]
    },
    {
      "cell_type": "markdown",
      "metadata": {
        "id": "fQLu8g7NkVNI"
      },
      "source": [
        "# The Distribution of First Digits\n",
        "\n",
        "In this lab, you will explore the distribution of first digits in real data. For example, the first digits of the numbers 52, 30.8, and 0.07 are 5, 3, and 7 respectively. In this lab, you will investigate the question: how frequently does each digit 1-9 appear as the first digit of the number?"
      ]
    },
    {
      "cell_type": "markdown",
      "metadata": {
        "id": "X4RaiSB8kVNJ"
      },
      "source": [
        "## Question 0\n",
        "\n",
        "Make a prediction. \n",
        "\n",
        "1. Approximately what percentage of the values do you think will have a _first_ digit of 1? What percentage of the values do you think will have a first digit of 9?\n",
        "2. Approximately what percentage of the values do you think will have a _last_ digit of 1? What percentage of the values do you think will have a last digit of 9?\n",
        "\n",
        "(Don't worry about being wrong. You will earn full credit for any justified answer.)"
      ]
    },
    {
      "cell_type": "markdown",
      "metadata": {
        "id": "WlxSEeCxkVNK"
      },
      "source": [
        "**WRITTEN EXPLANATION:**\n",
        "\n",
        "\n",
        "There are only 9 possible digits for the first digit since 0 will never be showing as the first digit as it is redundant. Thus, the first digit could only be 1-9. The expected proportion of each digit is 1/9 = 1 (for both 1 or 9 in the first digit position)\n",
        "\n",
        "\n",
        "For the final digit spot 0 becomes a possibility. Therefore there are 10 possible digits for the last digit spot. Thus, the last digit could be 0-9. The expected proportion of each digit is 1/10 = 10% (for both 1 or 9 in the last digit position)"
      ]
    },
    {
      "cell_type": "markdown",
      "metadata": {
        "id": "IKpeJAfokVNL"
      },
      "source": [
        "## Question 1\n",
        "\n",
        "The [S&P 500](https://en.wikipedia.org/wiki/S%26P_500_Index) is a stock index based on the market capitalizations of large companies that are publicly traded on the NYSE or NASDAQ. The CSV file (https://dlsun.github.io/pods/data/sp500.csv) contains data from February 1, 2018 about the stocks that comprise the S&P 500. We will investigate the first digit distributions of the variables in this data set.\n",
        "\n",
        "Read in the S&P 500 data. What is the unit of observation in this data set? Is there a variable that is natural to use as the index? If so, set that variable to be the index. Once you are done, display the `DataFrame`."
      ]
    },
    {
      "cell_type": "code",
      "metadata": {
        "id": "LxNsWuUNkVNM",
        "outputId": "102e96be-e414-4f0f-e4d2-ebf64e64aef1",
        "colab": {
          "base_uri": "https://localhost:8080/",
          "height": 454
        }
      },
      "source": [
        "# ENTER YOUR CODE HERE.\n",
        "import pandas as pd\n",
        "df_sp = pd.read_csv('https://dlsun.github.io/pods/data/sp500.csv')\n",
        "df_sp.Name.describe()\n",
        "\n",
        "df_sp.set_index('Name')"
      ],
      "execution_count": null,
      "outputs": [
        {
          "output_type": "execute_result",
          "data": {
            "text/html": [
              "\n",
              "  <div id=\"df-7b8ecfe2-a75b-42e5-9491-4ebe53c29b4d\">\n",
              "    <div class=\"colab-df-container\">\n",
              "      <div>\n",
              "<style scoped>\n",
              "    .dataframe tbody tr th:only-of-type {\n",
              "        vertical-align: middle;\n",
              "    }\n",
              "\n",
              "    .dataframe tbody tr th {\n",
              "        vertical-align: top;\n",
              "    }\n",
              "\n",
              "    .dataframe thead th {\n",
              "        text-align: right;\n",
              "    }\n",
              "</style>\n",
              "<table border=\"1\" class=\"dataframe\">\n",
              "  <thead>\n",
              "    <tr style=\"text-align: right;\">\n",
              "      <th></th>\n",
              "      <th>date</th>\n",
              "      <th>open</th>\n",
              "      <th>close</th>\n",
              "      <th>volume</th>\n",
              "    </tr>\n",
              "    <tr>\n",
              "      <th>Name</th>\n",
              "      <th></th>\n",
              "      <th></th>\n",
              "      <th></th>\n",
              "      <th></th>\n",
              "    </tr>\n",
              "  </thead>\n",
              "  <tbody>\n",
              "    <tr>\n",
              "      <th>AAL</th>\n",
              "      <td>2018-02-01</td>\n",
              "      <td>$54.00</td>\n",
              "      <td>$53.88</td>\n",
              "      <td>3623078</td>\n",
              "    </tr>\n",
              "    <tr>\n",
              "      <th>AAPL</th>\n",
              "      <td>2018-02-01</td>\n",
              "      <td>$167.16</td>\n",
              "      <td>$167.78</td>\n",
              "      <td>47230787</td>\n",
              "    </tr>\n",
              "    <tr>\n",
              "      <th>AAP</th>\n",
              "      <td>2018-02-01</td>\n",
              "      <td>$116.24</td>\n",
              "      <td>$117.29</td>\n",
              "      <td>760629</td>\n",
              "    </tr>\n",
              "    <tr>\n",
              "      <th>ABBV</th>\n",
              "      <td>2018-02-01</td>\n",
              "      <td>$112.24</td>\n",
              "      <td>$116.34</td>\n",
              "      <td>9943452</td>\n",
              "    </tr>\n",
              "    <tr>\n",
              "      <th>ABC</th>\n",
              "      <td>2018-02-01</td>\n",
              "      <td>$97.74</td>\n",
              "      <td>$99.29</td>\n",
              "      <td>2786798</td>\n",
              "    </tr>\n",
              "    <tr>\n",
              "      <th>...</th>\n",
              "      <td>...</td>\n",
              "      <td>...</td>\n",
              "      <td>...</td>\n",
              "      <td>...</td>\n",
              "    </tr>\n",
              "    <tr>\n",
              "      <th>XYL</th>\n",
              "      <td>2018-02-01</td>\n",
              "      <td>$72.50</td>\n",
              "      <td>$74.84</td>\n",
              "      <td>1817612</td>\n",
              "    </tr>\n",
              "    <tr>\n",
              "      <th>YUM</th>\n",
              "      <td>2018-02-01</td>\n",
              "      <td>$84.24</td>\n",
              "      <td>$83.98</td>\n",
              "      <td>1685275</td>\n",
              "    </tr>\n",
              "    <tr>\n",
              "      <th>ZBH</th>\n",
              "      <td>2018-02-01</td>\n",
              "      <td>$126.35</td>\n",
              "      <td>$128.19</td>\n",
              "      <td>1756300</td>\n",
              "    </tr>\n",
              "    <tr>\n",
              "      <th>ZION</th>\n",
              "      <td>2018-02-01</td>\n",
              "      <td>$53.79</td>\n",
              "      <td>$54.98</td>\n",
              "      <td>3542047</td>\n",
              "    </tr>\n",
              "    <tr>\n",
              "      <th>ZTS</th>\n",
              "      <td>2018-02-01</td>\n",
              "      <td>$76.84</td>\n",
              "      <td>$77.82</td>\n",
              "      <td>2982259</td>\n",
              "    </tr>\n",
              "  </tbody>\n",
              "</table>\n",
              "<p>505 rows × 4 columns</p>\n",
              "</div>\n",
              "      <button class=\"colab-df-convert\" onclick=\"convertToInteractive('df-7b8ecfe2-a75b-42e5-9491-4ebe53c29b4d')\"\n",
              "              title=\"Convert this dataframe to an interactive table.\"\n",
              "              style=\"display:none;\">\n",
              "        \n",
              "  <svg xmlns=\"http://www.w3.org/2000/svg\" height=\"24px\"viewBox=\"0 0 24 24\"\n",
              "       width=\"24px\">\n",
              "    <path d=\"M0 0h24v24H0V0z\" fill=\"none\"/>\n",
              "    <path d=\"M18.56 5.44l.94 2.06.94-2.06 2.06-.94-2.06-.94-.94-2.06-.94 2.06-2.06.94zm-11 1L8.5 8.5l.94-2.06 2.06-.94-2.06-.94L8.5 2.5l-.94 2.06-2.06.94zm10 10l.94 2.06.94-2.06 2.06-.94-2.06-.94-.94-2.06-.94 2.06-2.06.94z\"/><path d=\"M17.41 7.96l-1.37-1.37c-.4-.4-.92-.59-1.43-.59-.52 0-1.04.2-1.43.59L10.3 9.45l-7.72 7.72c-.78.78-.78 2.05 0 2.83L4 21.41c.39.39.9.59 1.41.59.51 0 1.02-.2 1.41-.59l7.78-7.78 2.81-2.81c.8-.78.8-2.07 0-2.86zM5.41 20L4 18.59l7.72-7.72 1.47 1.35L5.41 20z\"/>\n",
              "  </svg>\n",
              "      </button>\n",
              "      \n",
              "  <style>\n",
              "    .colab-df-container {\n",
              "      display:flex;\n",
              "      flex-wrap:wrap;\n",
              "      gap: 12px;\n",
              "    }\n",
              "\n",
              "    .colab-df-convert {\n",
              "      background-color: #E8F0FE;\n",
              "      border: none;\n",
              "      border-radius: 50%;\n",
              "      cursor: pointer;\n",
              "      display: none;\n",
              "      fill: #1967D2;\n",
              "      height: 32px;\n",
              "      padding: 0 0 0 0;\n",
              "      width: 32px;\n",
              "    }\n",
              "\n",
              "    .colab-df-convert:hover {\n",
              "      background-color: #E2EBFA;\n",
              "      box-shadow: 0px 1px 2px rgba(60, 64, 67, 0.3), 0px 1px 3px 1px rgba(60, 64, 67, 0.15);\n",
              "      fill: #174EA6;\n",
              "    }\n",
              "\n",
              "    [theme=dark] .colab-df-convert {\n",
              "      background-color: #3B4455;\n",
              "      fill: #D2E3FC;\n",
              "    }\n",
              "\n",
              "    [theme=dark] .colab-df-convert:hover {\n",
              "      background-color: #434B5C;\n",
              "      box-shadow: 0px 1px 3px 1px rgba(0, 0, 0, 0.15);\n",
              "      filter: drop-shadow(0px 1px 2px rgba(0, 0, 0, 0.3));\n",
              "      fill: #FFFFFF;\n",
              "    }\n",
              "  </style>\n",
              "\n",
              "      <script>\n",
              "        const buttonEl =\n",
              "          document.querySelector('#df-7b8ecfe2-a75b-42e5-9491-4ebe53c29b4d button.colab-df-convert');\n",
              "        buttonEl.style.display =\n",
              "          google.colab.kernel.accessAllowed ? 'block' : 'none';\n",
              "\n",
              "        async function convertToInteractive(key) {\n",
              "          const element = document.querySelector('#df-7b8ecfe2-a75b-42e5-9491-4ebe53c29b4d');\n",
              "          const dataTable =\n",
              "            await google.colab.kernel.invokeFunction('convertToInteractive',\n",
              "                                                     [key], {});\n",
              "          if (!dataTable) return;\n",
              "\n",
              "          const docLinkHtml = 'Like what you see? Visit the ' +\n",
              "            '<a target=\"_blank\" href=https://colab.research.google.com/notebooks/data_table.ipynb>data table notebook</a>'\n",
              "            + ' to learn more about interactive tables.';\n",
              "          element.innerHTML = '';\n",
              "          dataTable['output_type'] = 'display_data';\n",
              "          await google.colab.output.renderOutput(dataTable, element);\n",
              "          const docLink = document.createElement('div');\n",
              "          docLink.innerHTML = docLinkHtml;\n",
              "          element.appendChild(docLink);\n",
              "        }\n",
              "      </script>\n",
              "    </div>\n",
              "  </div>\n",
              "  "
            ],
            "text/plain": [
              "            date     open    close    volume\n",
              "Name                                        \n",
              "AAL   2018-02-01   $54.00   $53.88   3623078\n",
              "AAPL  2018-02-01  $167.16  $167.78  47230787\n",
              "AAP   2018-02-01  $116.24  $117.29    760629\n",
              "ABBV  2018-02-01  $112.24  $116.34   9943452\n",
              "ABC   2018-02-01   $97.74   $99.29   2786798\n",
              "...          ...      ...      ...       ...\n",
              "XYL   2018-02-01   $72.50   $74.84   1817612\n",
              "YUM   2018-02-01   $84.24   $83.98   1685275\n",
              "ZBH   2018-02-01  $126.35  $128.19   1756300\n",
              "ZION  2018-02-01   $53.79   $54.98   3542047\n",
              "ZTS   2018-02-01   $76.84   $77.82   2982259\n",
              "\n",
              "[505 rows x 4 columns]"
            ]
          },
          "metadata": {},
          "execution_count": 1
        }
      ]
    },
    {
      "cell_type": "markdown",
      "metadata": {
        "id": "7IXwAbCnkVNQ"
      },
      "source": [
        "**WRITTEN EXPLANATION:**\n",
        "\n",
        "The unit of observation in this dataset is each company. I ensured that there are no repeats (each comapny name is unique) and therefore I made this attribute the index. "
      ]
    },
    {
      "cell_type": "markdown",
      "metadata": {
        "id": "jXLVHxjIkVNR"
      },
      "source": [
        "## Question 2\n",
        "\n",
        "We will start by looking at the `volume` column. This variable tells us how many shares were traded on that date.\n",
        "\n",
        "Extract the first digit of every value in this column. (_Hint:_ First, turn the numbers into strings. Then, use the [text processing functionalities](https://pandas.pydata.org/pandas-docs/stable/text.html) of `pandas` to extract the first character of each string.) Make an appropriate visualization to display the distribution of the first digits. (_Hint:_ Think carefully about whether the variable you are plotting is quantitative or categorical.)\n",
        "\n",
        "How does this compare with what you predicted in Question 0?"
      ]
    },
    {
      "cell_type": "code",
      "metadata": {
        "id": "gCnuPUejkVNS",
        "outputId": "9ec4c83a-1837-4f4f-f40b-97a6de56e192",
        "colab": {
          "base_uri": "https://localhost:8080/",
          "height": 438
        }
      },
      "source": [
        "import matplotlib.pyplot as plt\n",
        "df_sp['volume']=df_sp['volume'].astype(str)\n",
        "df_sp['volume 1st'] = df_sp['volume'].str[:1]\n",
        "plot = plt.hist(df_sp['volume 1st'],density=True)\n",
        "df_sp['volume 1st'].value_counts(normalize=True)"
      ],
      "execution_count": null,
      "outputs": [
        {
          "output_type": "execute_result",
          "data": {
            "text/plain": [
              "1    0.326733\n",
              "2    0.184158\n",
              "3    0.116832\n",
              "4    0.085149\n",
              "5    0.081188\n",
              "6    0.071287\n",
              "7    0.049505\n",
              "8    0.043564\n",
              "9    0.041584\n",
              "Name: volume 1st, dtype: float64"
            ]
          },
          "metadata": {},
          "execution_count": 11
        },
        {
          "output_type": "display_data",
          "data": {
            "image/png": "[encoded data removed]",
            "text/plain": [
              "<Figure size 432x288 with 1 Axes>"
            ]
          },
          "metadata": {
            "needs_background": "light"
          }
        }
      ]
    },
    {
      "cell_type": "markdown",
      "metadata": {
        "id": "YiTi4orlkVNU"
      },
      "source": [
        "**WRITTEN EXPLANATION:**\n",
        "\n",
        "\n",
        "\n",
        "The bases of our logic was correct in that a greater number of first digits are 1 than 9. We were surprised to see that the proportion of 1's in the first digit spot was as high as 33%.\n",
        "Actual result:\n",
        "\n",
        "1 ~ 33%\n",
        "\n",
        "9 ~ 4%"
      ]
    },
    {
      "cell_type": "markdown",
      "metadata": {
        "id": "gX4YumLtkVNV"
      },
      "source": [
        "## Question 3\n",
        "\n",
        "Now, repeat Question 2, but for the distribution of _last_ digits. Again, make an appropriate visualization and compare with your prediction in Question 0."
      ]
    },
    {
      "cell_type": "code",
      "metadata": {
        "id": "PdKf6S7DkVNX",
        "outputId": "4ad5c18c-52f6-437d-ca7f-4cfc5f973a7b",
        "colab": {
          "base_uri": "https://localhost:8080/",
          "height": 456
        }
      },
      "source": [
        "df_sp['volume last'] = df_sp['volume'].str[-1]\n",
        "plt.hist(df_sp['volume last'].sort_index(),density=True) \n",
        "\n",
        "df_sp['volume last'].value_counts(normalize=True)"
      ],
      "execution_count": null,
      "outputs": [
        {
          "output_type": "execute_result",
          "data": {
            "text/plain": [
              "8    0.110891\n",
              "2    0.110891\n",
              "9    0.104950\n",
              "1    0.104950\n",
              "0    0.102970\n",
              "7    0.102970\n",
              "6    0.100990\n",
              "3    0.095050\n",
              "5    0.087129\n",
              "4    0.079208\n",
              "Name: volume last, dtype: float64"
            ]
          },
          "metadata": {},
          "execution_count": 11
        },
        {
          "output_type": "display_data",
          "data": {
            "image/png": "[encoded data removed]",
            "text/plain": [
              "<Figure size 432x288 with 1 Axes>"
            ]
          },
          "metadata": {
            "needs_background": "light"
          }
        }
      ]
    },
    {
      "cell_type": "markdown",
      "metadata": {
        "id": "JPsZCTnAkVNZ"
      },
      "source": [
        "**WRITTEN EXPLANATION:**\n",
        "\n",
        "These results matched our prediction that there should be equal proportions of 1 and 9 in the last digits position. And similar to our prediction this proportion is around 10%. This is evident through the histogram which displays a more uniform distributioin than the previous example.\n",
        "Actual results:\n",
        "\n",
        "1 ~ 10.5%\n",
        "\n",
        "9 ~ 10.5%"
      ]
    },
    {
      "cell_type": "markdown",
      "metadata": {
        "id": "v3GOfL93kVNa"
      },
      "source": [
        "## Question 4\n",
        "\n",
        "Maybe the `volume` column was just a fluke. Let's see if the first digit distribution holds up when we look at a very different variable: the closing price of the stock. Make a visualization of the first digit distribution of the closing price (the `close` column of the `DataFrame`). Comment on what you see.\n",
        "\n",
        "(_Hint:_ What type did `pandas` infer this variable as and why? You will have to first clean the values using the [text processing functionalities](https://pandas.pydata.org/pandas-docs/stable/text.html) of `pandas` and then convert this variable to a quantitative variable.)"
      ]
    },
    {
      "cell_type": "code",
      "metadata": {
        "id": "0EAC_EY3kVNb",
        "outputId": "75734e52-dcee-4d9d-b769-85385fcfb12a",
        "colab": {
          "base_uri": "https://localhost:8080/",
          "height": 439
        }
      },
      "source": [
        "df_sp['close']=df_sp['close'].astype(str)\n",
        "df_sp['close 1st'] = df_sp['close'].str[1:2]\n",
        "plt.hist(df_sp['close 1st'],density=True) \n",
        "\n",
        "df_sp['close 1st'].value_counts(normalize=True)"
      ],
      "execution_count": null,
      "outputs": [
        {
          "output_type": "execute_result",
          "data": {
            "text/plain": [
              "1    0.338614\n",
              "2    0.108911\n",
              "3    0.102970\n",
              "6    0.095050\n",
              "4    0.085149\n",
              "7    0.085149\n",
              "5    0.077228\n",
              "8    0.055446\n",
              "9    0.051485\n",
              "Name: close 1st, dtype: float64"
            ]
          },
          "metadata": {},
          "execution_count": 42
        },
        {
          "output_type": "display_data",
          "data": {
            "image/png": "[encoded data removed]",
            "text/plain": [
              "<Figure size 432x288 with 1 Axes>"
            ]
          },
          "metadata": {
            "needs_background": "light"
          }
        }
      ]
    },
    {
      "cell_type": "markdown",
      "metadata": {
        "id": "YI6oR6sjkVNe"
      },
      "source": [
        "**WRITTEN EXPLANATION:**\n",
        "\n",
        "Closing price seems to display similar behavior as the volume column since the proportion of 1's is at 33%. In fact, the closing price of the stocks tend to also have a large proportion of 1's just like the volume.\n",
        "\n",
        "Actual results:\n",
        "\n",
        "1 ~ 34%\n",
        "\n",
        "9 ~ 5%"
      ]
    }
  ]
}